{
 "cells": [
  {
   "cell_type": "markdown",
   "metadata": {},
   "source": [
    "### LeetCode Practice"
   ]
  },
  {
   "cell_type": "code",
   "execution_count": 19,
   "metadata": {},
   "outputs": [
    {
     "name": "stdout",
     "output_type": "stream",
     "text": [
      "Dave Bowan\n",
      "Dave\n",
      "Bowan\n",
      "19710105\n",
      "50\n"
     ]
    }
   ],
   "source": [
    "# 3/14/2023 Practice Problems\n",
    "# Starting with easy first\n",
    "import datetime\n",
    "class User():\n",
    "    def __init__(self, full_name, birthday):\n",
    "        self.name = full_name\n",
    "        self.birthday = birthday\n",
    "        \n",
    "        # Extract name\n",
    "        name_pieces = full_name.split(' ')\n",
    "        self.first_name = name_pieces[0]\n",
    "        self.last_name = name_pieces[1]        # If you don't put self here, then you will get an attribute error\n",
    "    \n",
    "    def age(self):\n",
    "        today = datetime.date(2021, 5, 12)\n",
    "        yyyy = int(self.birthday[0:4])\n",
    "        mm = int(self.birthday[4:6])\n",
    "        dd = int(self.birthday[6:])\n",
    "        dob = datetime.date(yyyy, mm, dd)\n",
    "        age_in_days = (today - dob).days\n",
    "        age_in_years = age_in_days / 365\n",
    "        return int(age_in_years)\n",
    "        \n",
    "user = User(\"Dave Bowan\", \"19710105\")\n",
    "print(user.name)\n",
    "print(user.first_name)\n",
    "print(user.last_name)\n",
    "print(user.birthday)\n",
    "print(user.age())"
   ]
  },
  {
   "cell_type": "markdown",
   "metadata": {},
   "source": [
    "#### TwoSum"
   ]
  },
  {
   "cell_type": "markdown",
   "metadata": {},
   "source": [
    "#Given an array of integers nums and an integer target, return indices of the two numbers such that they add up to target.\n",
    "\n",
    "#You may assume that each input would have exactly one solution, and you may not use the same element twice.\n",
    "\n",
    "#You can return the answer in any order.\n",
    "\n",
    "#Example  \n",
    "Input: nums = [2,7,11,15], target = 9  \n",
    "Output: [0,1]  \n",
    "Explanation: Because nums[0] + nums[1] == 9, we return [0, 1].  \n",
    "\n",
    "Input: nums = [3,2,4], target = 6  \n",
    "Output: [1,2]  \n",
    "\n",
    "Input: nums = [3,3], target = 6  \n",
    "Output: [0,1]"
   ]
  },
  {
   "cell_type": "markdown",
   "metadata": {},
   "source": [
    "##### Hash Table"
   ]
  },
  {
   "cell_type": "code",
   "execution_count": 81,
   "metadata": {},
   "outputs": [],
   "source": [
    "from typing import List\n",
    "class Solution:\n",
    "    def twoSum(self, nums: List[int], target: int)  -> List[int]:\n",
    "        \"\"\"\n",
    "        :type nums: List[int]\n",
    "        :type target: int\n",
    "        :rtype: List[int]\n",
    "        \"\"\"\n",
    "        \n",
    "        store = {}\n",
    "        for index, num in enumerate(nums):\n",
    "            rem = target - nums[index]              # Will use this to store the first value and look up against the remainder\n",
    "\n",
    "            if rem in store:                # Looks up the remainder of 2nd value in dictionary\n",
    "                return [store[rem], index]\n",
    "\n",
    "            else:\n",
    "                store[num] = index          # Stores values if not in dictionary"
   ]
  },
  {
   "cell_type": "code",
   "execution_count": 82,
   "metadata": {},
   "outputs": [
    {
     "data": {
      "text/plain": [
       "[0, 3]"
      ]
     },
     "execution_count": 82,
     "metadata": {},
     "output_type": "execute_result"
    }
   ],
   "source": [
    "test = Solution().twoSum(nums=[2,5,11.5,7], target=9)\n",
    "test"
   ]
  },
  {
   "cell_type": "markdown",
   "metadata": {},
   "source": [
    "##### Two Pointer Method"
   ]
  },
  {
   "cell_type": "code",
   "execution_count": 108,
   "metadata": {},
   "outputs": [],
   "source": [
    "class Solution:\n",
    "    def twoSum(self, numbers: List[int], target: int) -> List[int]:\n",
    "        \n",
    "        for left in range(len(numbers) -1): #1\n",
    "            right = len(numbers) - 1 #2\n",
    "            print(right)\n",
    "            \n",
    "            while left < right: #3\n",
    "                temp_sum = numbers[left] + numbers[right] #4\n",
    "                print('temp_sum', temp_sum)\n",
    "                \n",
    "                if temp_sum > target:  #5\n",
    "                    right -= 1 #6\n",
    "                    print('right', right)\n",
    "                    \n",
    "                elif temp_sum < target: #7\n",
    "                    left +=1 #8\n",
    "                    print('left', left)\n",
    "                    \n",
    "                else:\n",
    "                    return [left, right] #9"
   ]
  },
  {
   "cell_type": "code",
   "execution_count": 109,
   "metadata": {},
   "outputs": [
    {
     "name": "stdout",
     "output_type": "stream",
     "text": [
      "7\n",
      "temp_sum 17\n",
      "right 6\n",
      "temp_sum 17\n",
      "right 5\n",
      "temp_sum 13\n",
      "right 4\n",
      "temp_sum 10\n",
      "right 3\n",
      "temp_sum 11\n",
      "right 2\n",
      "temp_sum 20\n",
      "right 1\n",
      "temp_sum 14\n",
      "right 0\n",
      "7\n",
      "temp_sum 13\n",
      "right 6\n",
      "temp_sum 13\n",
      "right 5\n",
      "temp_sum 9\n"
     ]
    },
    {
     "data": {
      "text/plain": [
       "[1, 5]"
      ]
     },
     "execution_count": 109,
     "metadata": {},
     "output_type": "execute_result"
    }
   ],
   "source": [
    "test = Solution().twoSum(numbers=[9,5,11,2,1,4,8,8], target=9)\n",
    "test"
   ]
  },
  {
   "cell_type": "markdown",
   "metadata": {},
   "source": [
    "#### Palindrome\n",
    "Given an integer x, return true if x is a palindrome, and false otherwise.  \n",
    "\n",
    "Input: x = 121  \n",
    "Output: true  \n",
    "Explanation: 121 reads as 121 from left to right and from right to left.  \n",
    "\n",
    "Input: x = -121  \n",
    "Output: false  \n",
    "Explanation: From left to right, it reads -121. From right to left, it becomes 121-. Therefore it is not a palindrome.  \n",
    "\n",
    "Input: x = 10  \n",
    "Output: false  \n",
    "Explanation: Reads 01 from right to left. Therefore it is not a palindrome."
   ]
  },
  {
   "cell_type": "code",
   "execution_count": 124,
   "metadata": {},
   "outputs": [],
   "source": [
    "class Solution:\n",
    "    def isPalindrome(self, x: int) -> bool:\n",
    "        \n",
    "        str_x = str(x)\n",
    "        \n",
    "        if str_x == str_x[::-1]:\n",
    "            return True\n",
    "        \n",
    "        else:\n",
    "            return False"
   ]
  },
  {
   "cell_type": "code",
   "execution_count": null,
   "metadata": {},
   "outputs": [],
   "source": [
    "## Try to do it without converting int to str\n",
    "class Solution:\n",
    "    def isPalindrome(self, x: int) -> bool:\n",
    "        \n",
    "        str_x = str(x)\n",
    "        \n",
    "        if str_x == str_x[::-1]:\n",
    "            return True\n",
    "        \n",
    "        else:\n",
    "            return False"
   ]
  },
  {
   "cell_type": "code",
   "execution_count": 126,
   "metadata": {},
   "outputs": [
    {
     "data": {
      "text/plain": [
       "False"
      ]
     },
     "execution_count": 126,
     "metadata": {},
     "output_type": "execute_result"
    }
   ],
   "source": [
    "test = Solution().isPalindrome(x=10)\n",
    "test"
   ]
  },
  {
   "cell_type": "code",
   "execution_count": 157,
   "metadata": {
    "scrolled": true
   },
   "outputs": [
    {
     "name": "stdout",
     "output_type": "stream",
     "text": [
      "-7381\n",
      "7381\n"
     ]
    }
   ],
   "source": [
    "x = -121\n",
    "total = 0\n",
    "o_total = 0\n",
    "\n",
    "if x < 0:\n",
    "    for i in range(x,1):\n",
    "        total += i\n",
    "    \n",
    "    y = x*-1\n",
    "    \n",
    "    for j in range(y+1):\n",
    "        o_total += j\n",
    "\n",
    "    if total == o_total:\n",
    "        return True\n",
    "    \n",
    "else:\n",
    "    for i in range(x)\n",
    "        \n",
    "\n",
    "print(total)\n",
    "print(o_total)"
   ]
  },
  {
   "cell_type": "markdown",
   "metadata": {},
   "source": [
    "#### Roman to Integer  \n",
    "\n",
    "Roman numerals are represented by seven different symbols: I, V, X, L, C, D and M.  \n",
    "\n",
    "For example, 2 is written as II in Roman numeral, just two ones added together. 12 is written as XII, which is simply X + II. The number 27 is written as XXVII, which is XX + V + II.  \n",
    "\n",
    "Roman numerals are usually written largest to smallest from left to right. However, the numeral for four is not IIII. Instead, the number four is written as IV. Because the one is   before the five we subtract it making four. The same principle applies to the number nine, which is written as IX. There are six instances where subtraction is used:  \n",
    "\n",
    "I can be placed before V (5) and X (10) to make 4 and 9.   \n",
    "X can be placed before L (50) and C (100) to make 40 and 90.   \n",
    "C can be placed before D (500) and M (1000) to make 400 and 900.  \n",
    "Given a roman numeral, convert it to an integer.  \n",
    "\n",
    "Input: s = \"III\"  \n",
    "Output: 3  \n",
    "Explanation: III = 3.  \n",
    "\n",
    "Input: s = \"LVIII\"  \n",
    "Output: 58  \n",
    "Explanation: L = 50, V= 5, III = 3.  \n",
    "\n",
    "Input: s = \"MCMXCIV\"  \n",
    "Output: 1994  \n",
    "Explanation: M = 1000, CM = 900, XC = 90 and IV = 4.  "
   ]
  },
  {
   "cell_type": "code",
   "execution_count": 2,
   "metadata": {},
   "outputs": [],
   "source": [
    "class Solution:\n",
    "    def romanToInt(self, s: str) -> int:\n",
    "        rom_dict = {\n",
    "            'I': 1\n",
    "           ,'V': 5\n",
    "           ,'X': 10\n",
    "           ,'L': 50\n",
    "           ,'C': 100\n",
    "           ,'D': 500\n",
    "           ,'M': 1000}\n",
    "\n",
    "        total = 0\n",
    "        length = 0\n",
    "\n",
    "        for index, value in enumerate(s):\n",
    "            if length != len(s)-1:\n",
    "                if value == 'I' and s[index+1] == 'V':\n",
    "                    total += -1\n",
    "                    length += 1\n",
    "\n",
    "                elif value == 'I' and s[index+1] == 'X':\n",
    "                    total += -1\n",
    "                    length += 1\n",
    "\n",
    "                elif value == 'X' and s[index+1] == 'L':\n",
    "                    total += -10\n",
    "                    length += 1\n",
    "\n",
    "                elif value == 'X' and s[index+1] == 'C':\n",
    "                    total += -10\n",
    "                    length += 1\n",
    "\n",
    "                elif value == 'C' and s[index+1] == 'D':\n",
    "                    total += -100\n",
    "                    length += 1\n",
    "\n",
    "                elif value == 'C' and s[index+1] == 'M':\n",
    "                    total += -100\n",
    "                    length += 1\n",
    "\n",
    "                else:\n",
    "                    total += rom_dict[value]\n",
    "                    length += 1\n",
    "\n",
    "            else:\n",
    "                total += rom_dict[value]\n",
    "        \n",
    "        return total"
   ]
  },
  {
   "cell_type": "code",
   "execution_count": 89,
   "metadata": {},
   "outputs": [
    {
     "data": {
      "text/plain": [
       "2153"
      ]
     },
     "execution_count": 89,
     "metadata": {},
     "output_type": "execute_result"
    }
   ],
   "source": [
    "Solution().romanToInt(s='XMXVIXMLIXLX')"
   ]
  },
  {
   "cell_type": "code",
   "execution_count": 87,
   "metadata": {},
   "outputs": [],
   "source": [
    "class Solution2:\n",
    "    def romanToInt(self, s: str) -> int:\n",
    "        rom_dict = {\n",
    "            'I': 1\n",
    "           ,'V': 5\n",
    "           ,'X': 10\n",
    "           ,'L': 50\n",
    "           ,'C': 100\n",
    "           ,'D': 500\n",
    "           ,'M': 1000}\n",
    "        \n",
    "        s = s.replace('IV', 'IIII').replace('IX', 'VIIII').replace('XL', 'XXXX').replace('XC', 'LXXXX').replace('CD', 'CCCC').replace('CM', 'DCCCC')\n",
    "        total = 0\n",
    "        \n",
    "        for i in s:\n",
    "            total += rom_dict[i]\n",
    "        \n",
    "        return total"
   ]
  },
  {
   "cell_type": "code",
   "execution_count": 88,
   "metadata": {},
   "outputs": [
    {
     "data": {
      "text/plain": [
       "2153"
      ]
     },
     "execution_count": 88,
     "metadata": {},
     "output_type": "execute_result"
    }
   ],
   "source": [
    "Solution2().romanToInt(s='XMXVIXMLIXLX')"
   ]
  },
  {
   "cell_type": "code",
   "execution_count": 90,
   "metadata": {},
   "outputs": [],
   "source": [
    "class Solution3:\n",
    "    def romanToInt(self, s: str) -> int:\n",
    "        rom_dict = {\n",
    "            'I': 1\n",
    "           ,'V': 5\n",
    "           ,'X': 10\n",
    "           ,'L': 50\n",
    "           ,'C': 100\n",
    "           ,'D': 500\n",
    "           ,'M': 1000}\n",
    "        \n",
    "        s = s.replace('IV', 'IIII').replace('IX', 'VIIII').replace('XL', 'XXXX').replace('XC', 'LXXXX').replace('CD', 'CCCC').replace('CM', 'DCCCC')\n",
    "        total = 0\n",
    "        \n",
    "        return sum(map(lambda x: rom_dict[x], s))"
   ]
  },
  {
   "cell_type": "code",
   "execution_count": 91,
   "metadata": {},
   "outputs": [
    {
     "data": {
      "text/plain": [
       "2153"
      ]
     },
     "execution_count": 91,
     "metadata": {},
     "output_type": "execute_result"
    }
   ],
   "source": [
    "Solution3().romanToInt(s='XMXVIXMLIXLX')"
   ]
  },
  {
   "cell_type": "code",
   "execution_count": null,
   "metadata": {},
   "outputs": [],
   "source": []
  }
 ],
 "metadata": {
  "kernelspec": {
   "display_name": "Python 3",
   "language": "python",
   "name": "python3"
  },
  "language_info": {
   "codemirror_mode": {
    "name": "ipython",
    "version": 3
   },
   "file_extension": ".py",
   "mimetype": "text/x-python",
   "name": "python",
   "nbconvert_exporter": "python",
   "pygments_lexer": "ipython3",
   "version": "3.7.1"
  }
 },
 "nbformat": 4,
 "nbformat_minor": 4
}
