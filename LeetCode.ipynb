{
 "cells": [
  {
   "cell_type": "markdown",
   "metadata": {},
   "source": [
    "### LeetCode Practice"
   ]
  },
  {
   "cell_type": "code",
   "execution_count": 19,
   "metadata": {},
   "outputs": [
    {
     "name": "stdout",
     "output_type": "stream",
     "text": [
      "Dave Bowan\n",
      "Dave\n",
      "Bowan\n",
      "19710105\n",
      "50\n"
     ]
    }
   ],
   "source": [
    "# 3/14/2023 Practice Problems\n",
    "# Starting with easy first\n",
    "import datetime\n",
    "class User():\n",
    "    def __init__(self, full_name, birthday):\n",
    "        self.name = full_name\n",
    "        self.birthday = birthday\n",
    "        \n",
    "        # Extract name\n",
    "        name_pieces = full_name.split(' ')\n",
    "        self.first_name = name_pieces[0]\n",
    "        self.last_name = name_pieces[1]        # If you don't put self here, then you will get an attribute error\n",
    "    \n",
    "    def age(self):\n",
    "        today = datetime.date(2021, 5, 12)\n",
    "        yyyy = int(self.birthday[0:4])\n",
    "        mm = int(self.birthday[4:6])\n",
    "        dd = int(self.birthday[6:])\n",
    "        dob = datetime.date(yyyy, mm, dd)\n",
    "        age_in_days = (today - dob).days\n",
    "        age_in_years = age_in_days / 365\n",
    "        return int(age_in_years)\n",
    "        \n",
    "user = User(\"Dave Bowan\", \"19710105\")\n",
    "print(user.name)\n",
    "print(user.first_name)\n",
    "print(user.last_name)\n",
    "print(user.birthday)\n",
    "print(user.age())"
   ]
  },
  {
   "cell_type": "markdown",
   "metadata": {},
   "source": [
    "#### TwoSum"
   ]
  },
  {
   "cell_type": "markdown",
   "metadata": {},
   "source": [
    "#Given an array of integers nums and an integer target, return indices of the two numbers such that they add up to target.\n",
    "\n",
    "#You may assume that each input would have exactly one solution, and you may not use the same element twice.\n",
    "\n",
    "#You can return the answer in any order.\n",
    "\n",
    "#Example  \n",
    "Input: nums = [2,7,11,15], target = 9  \n",
    "Output: [0,1]  \n",
    "Explanation: Because nums[0] + nums[1] == 9, we return [0, 1].  \n",
    "\n",
    "Input: nums = [3,2,4], target = 6  \n",
    "Output: [1,2]  \n",
    "\n",
    "Input: nums = [3,3], target = 6  \n",
    "Output: [0,1]"
   ]
  },
  {
   "cell_type": "markdown",
   "metadata": {},
   "source": [
    "##### Hash Table"
   ]
  },
  {
   "cell_type": "code",
   "execution_count": 81,
   "metadata": {},
   "outputs": [],
   "source": [
    "from typing import List\n",
    "class Solution:\n",
    "    def twoSum(self, nums: List[int], target: int)  -> List[int]:\n",
    "        \"\"\"\n",
    "        :type nums: List[int]\n",
    "        :type target: int\n",
    "        :rtype: List[int]\n",
    "        \"\"\"\n",
    "        \n",
    "        store = {}\n",
    "        for index, num in enumerate(nums):\n",
    "            rem = target - nums[index]              # Will use this to store the first value and look up against the remainder\n",
    "\n",
    "            if rem in store:                # Looks up the remainder of 2nd value in dictionary\n",
    "                return [store[rem], index]\n",
    "\n",
    "            else:\n",
    "                store[num] = index          # Stores values if not in dictionary"
   ]
  },
  {
   "cell_type": "code",
   "execution_count": 82,
   "metadata": {},
   "outputs": [
    {
     "data": {
      "text/plain": [
       "[0, 3]"
      ]
     },
     "execution_count": 82,
     "metadata": {},
     "output_type": "execute_result"
    }
   ],
   "source": [
    "test = Solution().twoSum(nums=[2,5,11.5,7], target=9)\n",
    "test"
   ]
  },
  {
   "cell_type": "markdown",
   "metadata": {},
   "source": [
    "##### Two Pointer Method"
   ]
  },
  {
   "cell_type": "code",
   "execution_count": 108,
   "metadata": {},
   "outputs": [],
   "source": [
    "class Solution:\n",
    "    def twoSum(self, numbers: List[int], target: int) -> List[int]:\n",
    "        \n",
    "        for left in range(len(numbers) -1): #1\n",
    "            right = len(numbers) - 1 #2\n",
    "            print(right)\n",
    "            while left < right: #3\n",
    "                temp_sum = numbers[left] + numbers[right] #4\n",
    "                print('temp_sum', temp_sum)\n",
    "                if temp_sum > target:  #5\n",
    "                    right -= 1 #6\n",
    "                    print('right', right)\n",
    "                elif temp_sum < target: #7\n",
    "                    left +=1 #8\n",
    "                    print('left', left)\n",
    "                else:\n",
    "                    return [left, right] #9"
   ]
  },
  {
   "cell_type": "code",
   "execution_count": 109,
   "metadata": {},
   "outputs": [
    {
     "name": "stdout",
     "output_type": "stream",
     "text": [
      "7\n",
      "temp_sum 17\n",
      "right 6\n",
      "temp_sum 17\n",
      "right 5\n",
      "temp_sum 13\n",
      "right 4\n",
      "temp_sum 10\n",
      "right 3\n",
      "temp_sum 11\n",
      "right 2\n",
      "temp_sum 20\n",
      "right 1\n",
      "temp_sum 14\n",
      "right 0\n",
      "7\n",
      "temp_sum 13\n",
      "right 6\n",
      "temp_sum 13\n",
      "right 5\n",
      "temp_sum 9\n"
     ]
    },
    {
     "data": {
      "text/plain": [
       "[1, 5]"
      ]
     },
     "execution_count": 109,
     "metadata": {},
     "output_type": "execute_result"
    }
   ],
   "source": [
    "test = Solution().twoSum(numbers=[9,5,11,2,1,4,8,8], target=9)\n",
    "test"
   ]
  },
  {
   "cell_type": "code",
   "execution_count": null,
   "metadata": {},
   "outputs": [],
   "source": []
  },
  {
   "cell_type": "code",
   "execution_count": null,
   "metadata": {},
   "outputs": [],
   "source": []
  },
  {
   "cell_type": "code",
   "execution_count": null,
   "metadata": {},
   "outputs": [],
   "source": []
  }
 ],
 "metadata": {
  "kernelspec": {
   "display_name": "Python 3",
   "language": "python",
   "name": "python3"
  },
  "language_info": {
   "codemirror_mode": {
    "name": "ipython",
    "version": 3
   },
   "file_extension": ".py",
   "mimetype": "text/x-python",
   "name": "python",
   "nbconvert_exporter": "python",
   "pygments_lexer": "ipython3",
   "version": "3.7.1"
  }
 },
 "nbformat": 4,
 "nbformat_minor": 4
}
