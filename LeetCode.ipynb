{
 "cells": [
  {
   "cell_type": "markdown",
   "metadata": {},
   "source": [
    "### LeetCode Practice"
   ]
  },
  {
   "cell_type": "code",
   "execution_count": 19,
   "metadata": {},
   "outputs": [
    {
     "name": "stdout",
     "output_type": "stream",
     "text": [
      "Dave Bowan\n",
      "Dave\n",
      "Bowan\n",
      "19710105\n",
      "50\n"
     ]
    }
   ],
   "source": [
    "# 3/14/2023 Practice Problems\n",
    "# Starting with easy first\n",
    "import datetime\n",
    "class User():\n",
    "    def __init__(self, full_name, birthday):\n",
    "        self.name = full_name\n",
    "        self.birthday = birthday\n",
    "        \n",
    "        # Extract name\n",
    "        name_pieces = full_name.split(' ')\n",
    "        self.first_name = name_pieces[0]\n",
    "        self.last_name = name_pieces[1]        # If you don't put self here, then you will get an attribute error\n",
    "    \n",
    "    def age(self):\n",
    "        today = datetime.date(2021, 5, 12)\n",
    "        yyyy = int(self.birthday[0:4])\n",
    "        mm = int(self.birthday[4:6])\n",
    "        dd = int(self.birthday[6:])\n",
    "        dob = datetime.date(yyyy, mm, dd)\n",
    "        age_in_days = (today - dob).days\n",
    "        age_in_years = age_in_days / 365\n",
    "        return int(age_in_years)\n",
    "        \n",
    "user = User(\"Dave Bowan\", \"19710105\")\n",
    "print(user.name)\n",
    "print(user.first_name)\n",
    "print(user.last_name)\n",
    "print(user.birthday)\n",
    "print(user.age())"
   ]
  },
  {
   "cell_type": "markdown",
   "metadata": {},
   "source": [
    "#Given an array of integers nums and an integer target, return indices of the two numbers such that they add up to target.\n",
    "\n",
    "#You may assume that each input would have exactly one solution, and you may not use the same element twice.\n",
    "\n",
    "#You can return the answer in any order.\n",
    "\n",
    "#Example  \n",
    "Input: nums = [2,7,11,15], target = 9  \n",
    "Output: [0,1]  \n",
    "Explanation: Because nums[0] + nums[1] == 9, we return [0, 1].  \n",
    "\n",
    "Input: nums = [3,2,4], target = 6  \n",
    "Output: [1,2]  \n",
    "\n",
    "Input: nums = [3,3], target = 6  \n",
    "Output: [0,1]"
   ]
  },
  {
   "cell_type": "code",
   "execution_count": 20,
   "metadata": {},
   "outputs": [],
   "source": [
    "class Solution:\n",
    "    def twoSum(self, nums, target):\n",
    "        \"\"\"\n",
    "        :type nums: List[int]\n",
    "        :type target: int\n",
    "        :rtype: List[int]\n",
    "        \"\"\"\n",
    "        "
   ]
  },
  {
   "cell_type": "code",
   "execution_count": 64,
   "metadata": {},
   "outputs": [],
   "source": [
    "arr = [4,2,6,5]\n",
    "target = 9\n",
    "d = {}\n",
    "\n",
    "def two_sum(arr):\n",
    "    for index, val in enumerate(arr):\n",
    "        rem = target - val\n",
    "\n",
    "        if rem in d: \n",
    "            return [d[rem], index]\n",
    "\n",
    "        d[val] = index"
   ]
  },
  {
   "cell_type": "code",
   "execution_count": 65,
   "metadata": {},
   "outputs": [
    {
     "data": {
      "text/plain": [
       "[0, 3]"
      ]
     },
     "execution_count": 65,
     "metadata": {},
     "output_type": "execute_result"
    }
   ],
   "source": [
    "two_sum(arr)"
   ]
  },
  {
   "cell_type": "code",
   "execution_count": 67,
   "metadata": {},
   "outputs": [
    {
     "name": "stdout",
     "output_type": "stream",
     "text": [
      "5\n",
      "{4: 0}\n",
      "7\n",
      "{4: 0, 2: 1}\n",
      "3\n",
      "{4: 0, 2: 1, 6: 2}\n",
      "4\n",
      "0\n",
      "{4: 0, 2: 1, 6: 2, 5: 3}\n"
     ]
    }
   ],
   "source": [
    "arr = [4,2,6,5]\n",
    "target = 9\n",
    "d = {}\n",
    "\n",
    "for index, val in enumerate(arr):\n",
    "        rem = target - val\n",
    "        print(rem)\n",
    "        \n",
    "        if rem in d:\n",
    "            print(d[rem])\n",
    "            \n",
    "        d[val] = index\n",
    "        print(d)"
   ]
  },
  {
   "cell_type": "code",
   "execution_count": 79,
   "metadata": {},
   "outputs": [
    {
     "data": {
      "text/plain": [
       "False"
      ]
     },
     "execution_count": 79,
     "metadata": {},
     "output_type": "execute_result"
    }
   ],
   "source": [
    "test = {1: 2, 4: 5, 6: 8}\n",
    "\n",
    "8 in test"
   ]
  },
  {
   "cell_type": "code",
   "execution_count": null,
   "metadata": {},
   "outputs": [],
   "source": []
  }
 ],
 "metadata": {
  "kernelspec": {
   "display_name": "Python 3",
   "language": "python",
   "name": "python3"
  },
  "language_info": {
   "codemirror_mode": {
    "name": "ipython",
    "version": 3
   },
   "file_extension": ".py",
   "mimetype": "text/x-python",
   "name": "python",
   "nbconvert_exporter": "python",
   "pygments_lexer": "ipython3",
   "version": "3.7.1"
  }
 },
 "nbformat": 4,
 "nbformat_minor": 4
}
