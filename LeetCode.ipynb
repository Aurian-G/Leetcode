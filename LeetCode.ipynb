{
 "cells": [
  {
   "cell_type": "markdown",
   "metadata": {},
   "source": [
    "### LeetCode Practice"
   ]
  },
  {
   "cell_type": "code",
   "execution_count": 1,
   "metadata": {},
   "outputs": [
    {
     "name": "stdout",
     "output_type": "stream",
     "text": [
      "Dave Bowan\n",
      "Dave\n",
      "Bowan\n",
      "19710105\n",
      "50\n"
     ]
    }
   ],
   "source": [
    "# 3/14/2023 Practice Problems\n",
    "# Starting with easy first\n",
    "import datetime\n",
    "class User():\n",
    "    def __init__(self, full_name, birthday):\n",
    "        self.name = full_name\n",
    "        self.birthday = birthday\n",
    "        \n",
    "        # Extract name\n",
    "        name_pieces = full_name.split(' ')\n",
    "        self.first_name = name_pieces[0]\n",
    "        self.last_name = name_pieces[1]        # If you don't put self here, then you will get an attribute error\n",
    "    \n",
    "    def age(self):\n",
    "        today = datetime.date(2021, 5, 12)\n",
    "        yyyy = int(self.birthday[0:4])\n",
    "        mm = int(self.birthday[4:6])\n",
    "        dd = int(self.birthday[6:])\n",
    "        dob = datetime.date(yyyy, mm, dd)\n",
    "        age_in_days = (today - dob).days\n",
    "        age_in_years = age_in_days / 365\n",
    "        return int(age_in_years)\n",
    "        \n",
    "user = User(\"Dave Bowan\", \"19710105\")\n",
    "print(user.name)\n",
    "print(user.first_name)\n",
    "print(user.last_name)\n",
    "print(user.birthday)\n",
    "print(user.age())"
   ]
  },
  {
   "cell_type": "markdown",
   "metadata": {},
   "source": [
    "#### TwoSum"
   ]
  },
  {
   "cell_type": "markdown",
   "metadata": {},
   "source": [
    "#Given an array of integers nums and an integer target, return indices of the two numbers such that they add up to target.\n",
    "\n",
    "#You may assume that each input would have exactly one solution, and you may not use the same element twice.\n",
    "\n",
    "#You can return the answer in any order.\n",
    "\n",
    "#Example  \n",
    "Input: nums = [2,7,11,15], target = 9  \n",
    "Output: [0,1]  \n",
    "Explanation: Because nums[0] + nums[1] == 9, we return [0, 1].  \n",
    "\n",
    "Input: nums = [3,2,4], target = 6  \n",
    "Output: [1,2]  \n",
    "\n",
    "Input: nums = [3,3], target = 6  \n",
    "Output: [0,1]"
   ]
  },
  {
   "cell_type": "markdown",
   "metadata": {},
   "source": [
    "##### Hash Table"
   ]
  },
  {
   "cell_type": "code",
   "execution_count": 2,
   "metadata": {},
   "outputs": [],
   "source": [
    "from typing import List\n",
    "class Solution:\n",
    "    def twoSum(self, nums: List[int], target: int)  -> List[int]:\n",
    "        \"\"\"\n",
    "        :type nums: List[int]\n",
    "        :type target: int\n",
    "        :rtype: List[int]\n",
    "        \"\"\"\n",
    "        \n",
    "        store = {}\n",
    "        for index, num in enumerate(nums):\n",
    "            rem = target - nums[index]              # Will use this to store the first value and look up against the remainder\n",
    "\n",
    "            if rem in store:                # Looks up the remainder of 2nd value in dictionary\n",
    "                return [store[rem], index]\n",
    "\n",
    "            else:\n",
    "                store[num] = index          # Stores values if not in dictionary"
   ]
  },
  {
   "cell_type": "code",
   "execution_count": 3,
   "metadata": {},
   "outputs": [
    {
     "data": {
      "text/plain": [
       "[0, 3]"
      ]
     },
     "execution_count": 3,
     "metadata": {},
     "output_type": "execute_result"
    }
   ],
   "source": [
    "test = Solution().twoSum(nums=[2,5,11.5,7], target=9)\n",
    "test"
   ]
  },
  {
   "cell_type": "markdown",
   "metadata": {},
   "source": [
    "##### Two Pointer Method"
   ]
  },
  {
   "cell_type": "code",
   "execution_count": 4,
   "metadata": {},
   "outputs": [],
   "source": [
    "class Solution:\n",
    "    def twoSum(self, numbers: List[int], target: int) -> List[int]:\n",
    "        \n",
    "        for left in range(len(numbers) -1): #1\n",
    "            right = len(numbers) - 1 #2\n",
    "            print('top', right)\n",
    "            \n",
    "            while left < right: #3\n",
    "                temp_sum = numbers[left] + numbers[right] #4\n",
    "                print('temp_sum', temp_sum)\n",
    "                \n",
    "                if temp_sum > target:  #5\n",
    "                    right -= 1 #6\n",
    "                    print('right', right)\n",
    "                    \n",
    "                elif temp_sum < target: #7\n",
    "                    left +=1 #8\n",
    "                    print('left', left)\n",
    "                    \n",
    "                else:\n",
    "                    return [left, right] #9"
   ]
  },
  {
   "cell_type": "code",
   "execution_count": 5,
   "metadata": {
    "scrolled": true
   },
   "outputs": [
    {
     "name": "stdout",
     "output_type": "stream",
     "text": [
      "top 6\n",
      "temp_sum 12\n",
      "right 5\n",
      "temp_sum 12\n",
      "right 4\n",
      "temp_sum 8\n",
      "left 1\n",
      "temp_sum 15\n",
      "right 3\n",
      "temp_sum 16\n",
      "right 2\n",
      "temp_sum 13\n",
      "right 1\n",
      "top 6\n",
      "temp_sum 19\n",
      "right 5\n",
      "temp_sum 19\n",
      "right 4\n",
      "temp_sum 15\n",
      "right 3\n",
      "temp_sum 16\n",
      "right 2\n",
      "temp_sum 13\n",
      "right 1\n",
      "top 6\n",
      "temp_sum 10\n",
      "right 5\n",
      "temp_sum 10\n",
      "right 4\n",
      "temp_sum 6\n",
      "left 3\n",
      "temp_sum 9\n"
     ]
    },
    {
     "data": {
      "text/plain": [
       "[3, 4]"
      ]
     },
     "execution_count": 5,
     "metadata": {},
     "output_type": "execute_result"
    }
   ],
   "source": [
    "test = Solution().twoSum(numbers=[4,11,2,5,4,8,8], target=9)\n",
    "test"
   ]
  },
  {
   "cell_type": "code",
   "execution_count": 6,
   "metadata": {},
   "outputs": [
    {
     "name": "stdout",
     "output_type": "stream",
     "text": [
      "0\n",
      "1\n",
      "2\n",
      "3\n",
      "4\n",
      "5\n",
      "6\n"
     ]
    }
   ],
   "source": [
    "for i in range(7):\n",
    "    print(i)"
   ]
  },
  {
   "cell_type": "markdown",
   "metadata": {},
   "source": [
    "#### Palindrome\n",
    "Given an integer x, return true if x is a palindrome, and false otherwise.  \n",
    "\n",
    "Input: x = 121  \n",
    "Output: true  \n",
    "Explanation: 121 reads as 121 from left to right and from right to left.  \n",
    "\n",
    "Input: x = -121  \n",
    "Output: false  \n",
    "Explanation: From left to right, it reads -121. From right to left, it becomes 121-. Therefore it is not a palindrome.  \n",
    "\n",
    "Input: x = 10  \n",
    "Output: false  \n",
    "Explanation: Reads 01 from right to left. Therefore it is not a palindrome."
   ]
  },
  {
   "cell_type": "code",
   "execution_count": 7,
   "metadata": {},
   "outputs": [],
   "source": [
    "class Solution:\n",
    "    def isPalindrome(self, x: int) -> bool:\n",
    "        \n",
    "        str_x = str(x)\n",
    "        \n",
    "        if str_x == str_x[::-1]:\n",
    "            return True\n",
    "        \n",
    "        else:\n",
    "            return False"
   ]
  },
  {
   "cell_type": "code",
   "execution_count": 8,
   "metadata": {},
   "outputs": [],
   "source": [
    "## Try to do it without converting int to str\n",
    "class Solution:\n",
    "    def isPalindrome(self, x: int) -> bool:\n",
    "        \n",
    "        str_x = str(x)\n",
    "        \n",
    "        if str_x == str_x[::-1]:\n",
    "            return True\n",
    "        \n",
    "        else:\n",
    "            return False"
   ]
  },
  {
   "cell_type": "code",
   "execution_count": 9,
   "metadata": {},
   "outputs": [
    {
     "data": {
      "text/plain": [
       "False"
      ]
     },
     "execution_count": 9,
     "metadata": {},
     "output_type": "execute_result"
    }
   ],
   "source": [
    "test = Solution().isPalindrome(x=10)\n",
    "test"
   ]
  },
  {
   "cell_type": "code",
   "execution_count": 10,
   "metadata": {
    "scrolled": true
   },
   "outputs": [
    {
     "ename": "SyntaxError",
     "evalue": "invalid syntax (<ipython-input-10-843e219b2823>, line 18)",
     "output_type": "error",
     "traceback": [
      "\u001b[1;36m  File \u001b[1;32m\"<ipython-input-10-843e219b2823>\"\u001b[1;36m, line \u001b[1;32m18\u001b[0m\n\u001b[1;33m    for i in range(x)\u001b[0m\n\u001b[1;37m                     ^\u001b[0m\n\u001b[1;31mSyntaxError\u001b[0m\u001b[1;31m:\u001b[0m invalid syntax\n"
     ]
    }
   ],
   "source": [
    "x = -121\n",
    "total = 0\n",
    "o_total = 0\n",
    "\n",
    "if x < 0:\n",
    "    for i in range(x,1):\n",
    "        total += i\n",
    "    \n",
    "    y = x*-1\n",
    "    \n",
    "    for j in range(y+1):\n",
    "        o_total += j\n",
    "\n",
    "    if total == o_total:\n",
    "        return True\n",
    "    \n",
    "else:\n",
    "    for i in range(x)\n",
    "        \n",
    "\n",
    "print(total)\n",
    "print(o_total)"
   ]
  },
  {
   "cell_type": "markdown",
   "metadata": {},
   "source": [
    "#### Roman to Integer  \n",
    "\n",
    "Roman numerals are represented by seven different symbols: I, V, X, L, C, D and M.  \n",
    "\n",
    "For example, 2 is written as II in Roman numeral, just two ones added together. 12 is written as XII, which is simply X + II. The number 27 is written as XXVII, which is XX + V + II.  \n",
    "\n",
    "Roman numerals are usually written largest to smallest from left to right. However, the numeral for four is not IIII. Instead, the number four is written as IV. Because the one is   before the five we subtract it making four. The same principle applies to the number nine, which is written as IX. There are six instances where subtraction is used:  \n",
    "\n",
    "I can be placed before V (5) and X (10) to make 4 and 9.   \n",
    "X can be placed before L (50) and C (100) to make 40 and 90.   \n",
    "C can be placed before D (500) and M (1000) to make 400 and 900.  \n",
    "Given a roman numeral, convert it to an integer.  \n",
    "\n",
    "Input: s = \"III\"  \n",
    "Output: 3  \n",
    "Explanation: III = 3.  \n",
    "\n",
    "Input: s = \"LVIII\"  \n",
    "Output: 58  \n",
    "Explanation: L = 50, V= 5, III = 3.  \n",
    "\n",
    "Input: s = \"MCMXCIV\"  \n",
    "Output: 1994  \n",
    "Explanation: M = 1000, CM = 900, XC = 90 and IV = 4.  "
   ]
  },
  {
   "cell_type": "code",
   "execution_count": 153,
   "metadata": {},
   "outputs": [],
   "source": [
    "class Solution:\n",
    "    def romanToInt(self, s: str) -> int:\n",
    "        rom_dict = {\n",
    "            'I': 1\n",
    "           ,'V': 5\n",
    "           ,'X': 10\n",
    "           ,'L': 50\n",
    "           ,'C': 100\n",
    "           ,'D': 500\n",
    "           ,'M': 1000}\n",
    "\n",
    "        total = 0\n",
    "        length = 0\n",
    "\n",
    "        for index, value in enumerate(s):\n",
    "            if length != len(s)-1:\n",
    "                if value == 'I' and (s[index+1] == 'V' or s[index+1] == 'X'):\n",
    "                    total += -1\n",
    "                    length += 1\n",
    "\n",
    "                elif value == 'X' and (s[index+1] == 'L' or s[index+1] == 'C'):\n",
    "                    total += -10\n",
    "                    length += 1\n",
    "\n",
    "                elif value == 'C' and (s[index+1] == 'D' or s[index+1] == 'M'):\n",
    "                    total += -100\n",
    "                    length += 1\n",
    "                    \n",
    "                else:\n",
    "                    total += rom_dict[value]\n",
    "                    length += 1\n",
    "\n",
    "            else:\n",
    "                total += rom_dict[value]\n",
    "        \n",
    "        return total"
   ]
  },
  {
   "cell_type": "code",
   "execution_count": 154,
   "metadata": {},
   "outputs": [
    {
     "data": {
      "text/plain": [
       "2133"
      ]
     },
     "execution_count": 154,
     "metadata": {},
     "output_type": "execute_result"
    }
   ],
   "source": [
    "Solution().romanToInt(s='XMXVIXMLIXLX')"
   ]
  },
  {
   "cell_type": "code",
   "execution_count": 13,
   "metadata": {},
   "outputs": [],
   "source": [
    "class Solution2:\n",
    "    def romanToInt(self, s: str) -> int:\n",
    "        rom_dict = {\n",
    "            'I': 1\n",
    "           ,'V': 5\n",
    "           ,'X': 10\n",
    "           ,'L': 50\n",
    "           ,'C': 100\n",
    "           ,'D': 500\n",
    "           ,'M': 1000}\n",
    "        \n",
    "        s = s.replace('IV', 'IIII').replace('IX', 'VIIII').replace('XL', 'XXXX').replace('XC', 'LXXXX').replace('CD', 'CCCC').replace('CM', 'DCCCC')\n",
    "        total = 0\n",
    "        \n",
    "        for i in s:\n",
    "            total += rom_dict[i]\n",
    "        \n",
    "        return total"
   ]
  },
  {
   "cell_type": "code",
   "execution_count": 14,
   "metadata": {},
   "outputs": [
    {
     "data": {
      "text/plain": [
       "2153"
      ]
     },
     "execution_count": 14,
     "metadata": {},
     "output_type": "execute_result"
    }
   ],
   "source": [
    "Solution2().romanToInt(s='XMXVIXMLIXLX')"
   ]
  },
  {
   "cell_type": "code",
   "execution_count": 19,
   "metadata": {},
   "outputs": [],
   "source": [
    "class Solution3:\n",
    "    def romanToInt(self, s: str) -> int:\n",
    "        rom_dict = {\n",
    "            'I': 1\n",
    "           ,'V': 5\n",
    "           ,'X': 10\n",
    "           ,'L': 50\n",
    "           ,'C': 100\n",
    "           ,'D': 500\n",
    "           ,'M': 1000}\n",
    "        \n",
    "        s = s.replace('IV', 'IIII').replace('IX', 'VIIII').replace('XL', 'XXXX').replace('XC', 'LXXXX').replace('CD', 'CCCC').replace('CM', 'DCCCC')\n",
    "        total = 0\n",
    "        \n",
    "        return sum(map(lambda x: rom_dict[x], s))"
   ]
  },
  {
   "cell_type": "code",
   "execution_count": 20,
   "metadata": {},
   "outputs": [
    {
     "data": {
      "text/plain": [
       "2153"
      ]
     },
     "execution_count": 20,
     "metadata": {},
     "output_type": "execute_result"
    }
   ],
   "source": [
    "Solution3().romanToInt(s='XMXVIXMLIXLX')"
   ]
  },
  {
   "cell_type": "markdown",
   "metadata": {},
   "source": [
    "#### Longest Common Preix\n",
    "\n",
    "Write a function to find the longest common prefix string amongst an array of strings.  \n",
    "\n",
    "If there is no common prefix, return an empty string \"\".  \n",
    "\n",
    "Input: strs = [\"flower\",\"flow\",\"flight\"]  \n",
    "Output: \"fl\"  \n",
    "\n",
    "Input: strs = [\"dog\",\"racecar\",\"car\"]  \n",
    "Output: \"\"  \n",
    "Explanation: There is no common prefix among the input strings.  "
   ]
  },
  {
   "cell_type": "code",
   "execution_count": 151,
   "metadata": {},
   "outputs": [],
   "source": [
    "class Solution:\n",
    "    def longestCommonPrefix(self, strs: List[str]) -> str:\n",
    "        low = min(strs)\n",
    "        high = max(strs)\n",
    "\n",
    "        letters = ''\n",
    "\n",
    "        for index, _ in enumerate(range(len(low))):\n",
    "            if low[index] != high[index]:\n",
    "                pass\n",
    "\n",
    "            else:\n",
    "                letters += low[index]\n",
    "\n",
    "        return letters"
   ]
  },
  {
   "cell_type": "code",
   "execution_count": 152,
   "metadata": {},
   "outputs": [
    {
     "name": "stdout",
     "output_type": "stream",
     "text": [
      "fl\n"
     ]
    }
   ],
   "source": [
    "strs = [\"flower\",\"flow\",\"flight\"]\n",
    "\n",
    "low = min(strs)\n",
    "high = max(strs)\n",
    "\n",
    "letters = ''\n",
    "\n",
    "for index, _ in enumerate(range(len(low))):\n",
    "    if low[index] != high[index]:\n",
    "        pass\n",
    "    \n",
    "    else:\n",
    "        letters += low[index]\n",
    "\n",
    "print(letters)"
   ]
  },
  {
   "cell_type": "markdown",
   "metadata": {},
   "source": [
    "#### Valid Parenthesis\n",
    "\n",
    "Given a string s containing just the characters '(', ')', '{', '}', '[' and ']', determine if the input string is valid.  \n",
    "\n",
    "An input string is valid if:  \n",
    "\n",
    "Open brackets must be closed by the same type of brackets.  \n",
    "Open brackets must be closed in the correct order.  \n",
    "Every close bracket has a corresponding open bracket of the same type.  \n",
    "\n",
    "Input: s = \"()\"  \n",
    "Output: true  \n",
    "\n",
    "Input: s = \"()[]{}\"  \n",
    "Output: true  \n",
    "\n",
    "Input: s = \"(]\"  \n",
    "Output: false"
   ]
  },
  {
   "cell_type": "code",
   "execution_count": 221,
   "metadata": {},
   "outputs": [],
   "source": [
    "class Solution:\n",
    "    def isValid(self, s: str) -> bool:\n",
    "        check = ['()', '[]', '{}']\n",
    "        empty = []\n",
    "\n",
    "        for index in range(len(s)):\n",
    "            empty.append(s[index])\n",
    "\n",
    "            if len(empty) != 2:\n",
    "                pass\n",
    "\n",
    "            else:\n",
    "\n",
    "                if ''.join(empty) in check:\n",
    "                    return True\n",
    "                    break\n",
    "\n",
    "                else:\n",
    "                    empty.clear()\n",
    "        \n",
    "        return False"
   ]
  },
  {
   "cell_type": "code",
   "execution_count": 223,
   "metadata": {},
   "outputs": [
    {
     "data": {
      "text/plain": [
       "False"
      ]
     },
     "execution_count": 223,
     "metadata": {},
     "output_type": "execute_result"
    }
   ],
   "source": [
    "Solution().isValid(s='({}')"
   ]
  },
  {
   "cell_type": "code",
   "execution_count": null,
   "metadata": {},
   "outputs": [],
   "source": []
  },
  {
   "cell_type": "code",
   "execution_count": 219,
   "metadata": {},
   "outputs": [
    {
     "name": "stdout",
     "output_type": "stream",
     "text": [
      "hi\n",
      "['(']\n",
      "hi\n",
      "['}']\n",
      "hi\n",
      "['{']\n",
      "yo\n"
     ]
    }
   ],
   "source": [
    "s = '({}){}'\n",
    "\n",
    "check = ['()', '[]', '{}']\n",
    "empty = []\n",
    "\n",
    "for index in range(len(s)):\n",
    "    empty.append(s[index])\n",
    "    \n",
    "    if len(empty) != 2:\n",
    "        print('hi')\n",
    "        print(empty)\n",
    "        \n",
    "    else:\n",
    "        \n",
    "        if ''.join(empty) in check:\n",
    "            print('yo')\n",
    "            break\n",
    "        \n",
    "        else:\n",
    "            empty.clear()\n",
    "    "
   ]
  },
  {
   "cell_type": "code",
   "execution_count": 212,
   "metadata": {},
   "outputs": [
    {
     "name": "stdout",
     "output_type": "stream",
     "text": [
      "0\n",
      "1\n",
      "2\n",
      "3\n",
      "4\n",
      "5\n",
      "6\n",
      "7\n",
      "8\n",
      "9\n"
     ]
    }
   ],
   "source": [
    "s = '(][){):{}}'\n",
    "\n",
    "check = ['()', '[]', '{}']\n",
    "empty = []\n",
    "\n",
    "for index in range(len(s)):\n",
    "    empty.append(s[index])\n",
    "    \n",
    "    if ''.join(empty) in check:\n",
    "        print('yo')\n",
    "        break\n",
    "    \n",
    "    else:\n",
    "        if ''.join(empty[index:index+2]) not in check:\n",
    "            print(empty)\n",
    "            empty.clear()"
   ]
  },
  {
   "cell_type": "code",
   "execution_count": 202,
   "metadata": {},
   "outputs": [
    {
     "data": {
      "text/plain": [
       "10"
      ]
     },
     "execution_count": 202,
     "metadata": {},
     "output_type": "execute_result"
    }
   ],
   "source": [
    "len(s)"
   ]
  },
  {
   "cell_type": "code",
   "execution_count": 210,
   "metadata": {},
   "outputs": [
    {
     "data": {
      "text/plain": [
       "'cherryorange'"
      ]
     },
     "execution_count": 210,
     "metadata": {},
     "output_type": "execute_result"
    }
   ],
   "source": [
    "fruits = ['apple', 'banana', 'cherry', 'orange']\n",
    "''.join(fruits[2:4])"
   ]
  },
  {
   "cell_type": "code",
   "execution_count": null,
   "metadata": {},
   "outputs": [],
   "source": []
  }
 ],
 "metadata": {
  "kernelspec": {
   "display_name": "Python 3",
   "language": "python",
   "name": "python3"
  },
  "language_info": {
   "codemirror_mode": {
    "name": "ipython",
    "version": 3
   },
   "file_extension": ".py",
   "mimetype": "text/x-python",
   "name": "python",
   "nbconvert_exporter": "python",
   "pygments_lexer": "ipython3",
   "version": "3.7.1"
  }
 },
 "nbformat": 4,
 "nbformat_minor": 4
}
